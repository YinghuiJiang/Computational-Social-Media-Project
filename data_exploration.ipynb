{
 "cells": [
  {
   "cell_type": "code",
   "execution_count": 1,
   "metadata": {},
   "outputs": [],
   "source": [
    "import os\n",
    "import glob\n",
    "import pandas as pd \n",
    "import matplotlib.pyplot as plt"
   ]
  },
  {
   "cell_type": "code",
   "execution_count": 2,
   "metadata": {},
   "outputs": [
    {
     "data": {
      "text/plain": [
       "['data_2011-09-26_eur_usd.csv',\n",
       " 'data_2011-10-26_eur_usd.csv',\n",
       " 'data_2011-11-26_eur_usd.csv',\n",
       " 'data_2011-12-26_eur_usd.csv',\n",
       " 'data_2012-01-26_eur_usd.csv',\n",
       " 'data_2012-02-26_eur_usd.csv',\n",
       " 'data_2012-03-26_eur_usd.csv',\n",
       " 'data_2012-04-26_eur_usd.csv',\n",
       " 'data_2012-05-26_eur_usd.csv',\n",
       " 'data_2012-06-26_eur_usd.csv',\n",
       " 'data_2012-07-26_eur_usd.csv',\n",
       " 'data_2012-08-26_eur_usd.csv',\n",
       " 'data_2012-09-26_eur_usd.csv',\n",
       " 'data_2012-10-26_eur_usd.csv',\n",
       " 'data_2012-11-26_eur_usd.csv',\n",
       " 'data_2012-12-26_eur_usd.csv',\n",
       " 'data_2013-01-26_eur_usd.csv',\n",
       " 'data_2013-02-26_eur_usd.csv',\n",
       " 'data_2013-03-26_eur_usd.csv',\n",
       " 'data_2013-04-26_eur_usd.csv',\n",
       " 'data_2013-05-26_eur_usd.csv',\n",
       " 'data_2013-06-26_eur_usd.csv',\n",
       " 'data_2013-07-26_eur_usd.csv']"
      ]
     },
     "execution_count": 2,
     "metadata": {},
     "output_type": "execute_result"
    }
   ],
   "source": [
    "csv_files = [x for x in os.listdir('data') if x.endswith(\".csv\")]\n",
    "csv_files = sorted(csv_files)\n",
    "csv_files"
   ]
  },
  {
   "cell_type": "markdown",
   "metadata": {},
   "source": [
    "1. Show distribution of tweets by month"
   ]
  },
  {
   "cell_type": "code",
   "execution_count": 3,
   "metadata": {},
   "outputs": [],
   "source": [
    "sep_11 = pd.read_csv('data/data_2011-09-26_eur_usd.csv')\n",
    "oct_11 = pd.read_csv('data/data_2011-10-26_eur_usd.csv')\n",
    "nov_11 = pd.read_csv('data/data_2011-11-26_eur_usd.csv')\n",
    "dec_11 = pd.read_csv('data/data_2011-12-26_eur_usd.csv')\n",
    "jan_12 = pd.read_csv('data/data_2012-01-26_eur_usd.csv')\n",
    "feb_12 = pd.read_csv('data/data_2012-02-26_eur_usd.csv')\n",
    "mar_12 = pd.read_csv('data/data_2012-03-26_eur_usd.csv')\n",
    "apr_12 = pd.read_csv('data/data_2012-04-26_eur_usd.csv')\n",
    "may_12 = pd.read_csv('data/data_2012-05-26_eur_usd.csv')\n",
    "jun_12 = pd.read_csv('data/data_2012-06-26_eur_usd.csv')\n",
    "jul_12 = pd.read_csv('data/data_2012-07-26_eur_usd.csv')\n",
    "aug_12 = pd.read_csv('data/data_2012-08-26_eur_usd.csv')\n",
    "sep_12 = pd.read_csv('data/data_2012-09-26_eur_usd.csv')\n",
    "oct_12 = pd.read_csv('data/data_2012-10-26_eur_usd.csv')\n",
    "nov_12 = pd.read_csv('data/data_2012-11-26_eur_usd.csv')\n",
    "dec_12 = pd.read_csv('data/data_2012-12-26_eur_usd.csv')\n",
    "jan_13 = pd.read_csv('data/data_2013-01-26_eur_usd.csv')\n",
    "feb_13 = pd.read_csv('data/data_2013-02-26_eur_usd.csv')\n",
    "mar_13 = pd.read_csv('data/data_2013-03-26_eur_usd.csv')\n",
    "apr_13 = pd.read_csv('data/data_2013-04-26_eur_usd.csv')\n",
    "may_13 = pd.read_csv('data/data_2013-05-26_eur_usd.csv')\n",
    "jun_13 = pd.read_csv('data/data_2013-06-26_eur_usd.csv')\n",
    "jul_13 = pd.read_csv('data/data_2013-07-26_eur_usd.csv')"
   ]
  },
  {
   "cell_type": "code",
   "execution_count": 4,
   "metadata": {},
   "outputs": [],
   "source": [
    "dfs_names = ['sep_11', 'oct_11', 'nov_11', 'dec_11', 'jan_12', 'feb_12', 'mar_12', 'apr_12', 'may_12', 'jun_12','jul_12', 'aug_12', 'sep_12', 'oct_12', 'nov_12', 'dec_12','jan_13', 'feb_13', 'mar_13', 'apr_13', 'may_13', 'jun_13', 'jul_13']\n"
   ]
  },
  {
   "cell_type": "code",
   "execution_count": 5,
   "metadata": {},
   "outputs": [
    {
     "data": {
      "text/plain": [
       "23"
      ]
     },
     "execution_count": 5,
     "metadata": {},
     "output_type": "execute_result"
    }
   ],
   "source": [
    "dfs = [sep_11, oct_11, nov_11, dec_11, jan_12, feb_12, mar_12, apr_12, may_12, jun_12,jul_12, aug_12, sep_12, oct_12, nov_12, dec_12, jan_13, feb_13, mar_13, apr_13, may_13, jun_13, jul_13]\n",
    "len(dfs)"
   ]
  },
  {
   "cell_type": "markdown",
   "metadata": {},
   "source": [
    "Number of tweets per month"
   ]
  },
  {
   "cell_type": "code",
   "execution_count": 6,
   "metadata": {},
   "outputs": [],
   "source": [
    "num_tweets_per_month = [0 for _ in range(len(dfs_names))]\n",
    "for i in range(len(csv_files)):\n",
    "  df = pd.read_csv('data/' + csv_files[i])\n",
    "  num_tweets_per_month[i] = df.shape[0]"
   ]
  },
  {
   "cell_type": "code",
   "execution_count": 7,
   "metadata": {},
   "outputs": [
    {
     "data": {
      "image/png": "[encoded data removed]",
      "text/plain": [
       "<Figure size 432x288 with 1 Axes>"
      ]
     },
     "metadata": {
      "needs_background": "light"
     },
     "output_type": "display_data"
    }
   ],
   "source": [
    "plt.bar(dfs_names, num_tweets_per_month)\n",
    "plt.xticks(rotation=90)\n",
    "plt.xlabel(\"Months\")\n",
    "plt.ylabel(\"Number of tweets\")\n",
    "plt.ylim(0, 1000)\n",
    "plt.show()"
   ]
  },
  {
   "cell_type": "markdown",
   "metadata": {},
   "source": [
    "Analysis on the users"
   ]
  },
  {
   "cell_type": "code",
   "execution_count": 8,
   "metadata": {},
   "outputs": [],
   "source": [
    "cwd = os.getcwd()\n",
    "\n",
    "# Get paths of all csv files\n",
    "filenames = glob.glob(cwd + '\\\\data\\\\*csv')"
   ]
  },
  {
   "cell_type": "code",
   "execution_count": 9,
   "metadata": {},
   "outputs": [
    {
     "name": "stderr",
     "output_type": "stream",
     "text": [
      "C:\\Users\\Lon\\AppData\\Local\\Temp/ipykernel_23556/2417736778.py:11: FutureWarning: Index.__or__ operating as a set operation is deprecated, in the future this will be a logical operation matching Series.__or__.  Use index.union(other) instead\n",
      "  temp = temp.drop((temp[temp['author username'] == 'zhanusic'].index) | (temp[temp['author username'] == 'Violahkzvo']).index).reset_index(drop=True)\n"
     ]
    },
    {
     "data": {
      "text/plain": [
       "(12500, 17)"
      ]
     },
     "execution_count": 9,
     "metadata": {},
     "output_type": "execute_result"
    }
   ],
   "source": [
    "# Get all data into one dataframe \n",
    "columns = ['author id', 'author username', 'is_verified_user', 'followers_count',\n",
    "       'following_count', 'tweet_count', 'listed_count', 'created_at', 'geo',\n",
    "       'id', 'lang', 'like_count', 'quote_count', 'reply_count',\n",
    "       'retweet_count', 'source', 'tweet']\n",
    "\n",
    "all_data = pd.DataFrame(columns=columns)\n",
    "\n",
    "for filename in filenames:\n",
    "  temp = pd.read_csv(filename)\n",
    "  temp = temp.drop((temp[temp['author username'] == 'zhanusic'].index) | (temp[temp['author username'] == 'Violahkzvo']).index).reset_index(drop=True)\n",
    "  all_data = pd.concat([all_data, temp]).drop_duplicates()\n",
    "\n",
    "all_data.shape"
   ]
  },
  {
   "cell_type": "code",
   "execution_count": 10,
   "metadata": {},
   "outputs": [],
   "source": [
    "# Reset the index for the dataset\n",
    "all_data.reset_index(drop=True, inplace=True)"
   ]
  },
  {
   "cell_type": "code",
   "execution_count": 12,
   "metadata": {},
   "outputs": [
    {
     "data": {
      "text/plain": [
       "3862"
      ]
     },
     "execution_count": 12,
     "metadata": {},
     "output_type": "execute_result"
    }
   ],
   "source": [
    "# Number of authors\n",
    "author_ids = all_data['author id'].unique()\n",
    "len(author_ids)"
   ]
  },
  {
   "cell_type": "code",
   "execution_count": 46,
   "metadata": {},
   "outputs": [],
   "source": [
    "def in_which_follower_count_bucket(n):\n",
    "  try:\n",
    "    if n < 100:\n",
    "      follower_count_buckets[0] += 1\n",
    "    elif 100 <= n and n < 500:\n",
    "      follower_count_buckets[1] += 1\n",
    "    elif 500 <= n and n < 1000:\n",
    "      follower_count_buckets[2] += 1\n",
    "    elif 1000 <= n and n < 2000:\n",
    "      follower_count_buckets[3] += 1\n",
    "    elif 2000 <= n and n < 4000:\n",
    "      follower_count_buckets[4] += 1\n",
    "    elif 4000 <= n and n < 8000:\n",
    "      follower_count_buckets[5] += 1\n",
    "    elif 8000 <= n and n < 16000:\n",
    "      follower_count_buckets[6] += 1\n",
    "    elif n >= 16000:\n",
    "      follower_count_buckets[7] += 1\n",
    "  except:\n",
    "    print(\"error with: \", n)\n",
    "\n",
    "def in_which_listed_count_bucket(n):\n",
    "  try:\n",
    "    if 0 < n and n < 25:\n",
    "      listed_count_buckets[0] += 1\n",
    "    elif 25 <= n and n < 50:\n",
    "      listed_count_buckets[1] += 1\n",
    "    elif 50 <= n and n < 100:\n",
    "      listed_count_buckets[2] += 1\n",
    "    elif 100 <= n and n < 200:\n",
    "      listed_count_buckets[3] += 1\n",
    "    elif 200 <= n and n < 400:\n",
    "      listed_count_buckets[4] += 1\n",
    "    elif 400 <= n and n < 800:\n",
    "      listed_count_buckets[5] += 1\n",
    "    elif 800 <= n and n < 1600:\n",
    "      listed_count_buckets[6] += 1\n",
    "    elif n >= 1600:\n",
    "      listed_count_buckets[7] += 1\n",
    "  except:\n",
    "    print(\"error with: \", n)"
   ]
  },
  {
   "cell_type": "code",
   "execution_count": 49,
   "metadata": {},
   "outputs": [],
   "source": [
    "# Organise all author information in a dictionary where each entry is a dictionary containing the information on an author\n",
    "\n",
    "## Count the authors by follower count\n",
    "follower_range = ['n < 100','100 <= n < 500', '500 <= n < 1k', '1k <= n < 2k', '2k <= n < 4k', '4k <= n < 8k', '8k <= n < 16k', 'n >= 16k']\n",
    "follower_count_buckets = [0 for _ in range(len(follower_range))]\n",
    "\n",
    "## Count by number of listed_count\n",
    "listed_range = ['0 < n < 25','25 <= n < 50', '50 <= n < 100', '100 <= n < 200', '200 <= n < 400', '400 <= n < 800', '800 <= n < 1.6k', 'n >= 1.6k']\n",
    "listed_count_buckets = [0 for _ in range(len(listed_range))]\n",
    "\n",
    "authors = {}\n",
    "for id in author_ids:\n",
    "  author = {}\n",
    "  temp = all_data[all_data['author id'] == id].iloc[0]\n",
    "  author['username'] = temp['author username']\n",
    "  author['follower_count'] = temp['followers_count']\n",
    "  in_which_follower_count_bucket(temp['followers_count'])\n",
    "  author['tweet_count'] = temp['tweet_count']\n",
    "  in_which_listed_count_bucket(temp['listed_count'])\n",
    "  author['listed_count'] = temp['listed_count']\n",
    "  authors[id] = author\n"
   ]
  },
  {
   "cell_type": "code",
   "execution_count": 38,
   "metadata": {},
   "outputs": [
    {
     "data": {
      "text/plain": [
       "{'username': 'RiskR3ward',\n",
       " 'follower_count': 13624,\n",
       " 'tweet_count': 25693,\n",
       " 'listed_count': 307}"
      ]
     },
     "execution_count": 38,
     "metadata": {},
     "output_type": "execute_result"
    }
   ],
   "source": [
    "authors[426722004]"
   ]
  },
  {
   "cell_type": "code",
   "execution_count": 48,
   "metadata": {},
   "outputs": [
    {
     "data": {
      "image/png": "[encoded data removed]",
      "text/plain": [
       "<Figure size 432x288 with 1 Axes>"
      ]
     },
     "metadata": {
      "needs_background": "light"
     },
     "output_type": "display_data"
    }
   ],
   "source": [
    "plt.bar(follower_range, follower_count_buckets)\n",
    "plt.xticks(rotation=75)\n",
    "plt.xlabel(\"Number of followers (n)\")\n",
    "plt.ylabel(\"Count\")\n",
    "plt.show()"
   ]
  },
  {
   "cell_type": "code",
   "execution_count": 51,
   "metadata": {},
   "outputs": [
    {
     "data": {
      "image/png": "[encoded data removed]",
      "text/plain": [
       "<Figure size 432x288 with 1 Axes>"
      ]
     },
     "metadata": {
      "needs_background": "light"
     },
     "output_type": "display_data"
    }
   ],
   "source": [
    "plt.bar(listed_range, listed_count_buckets)\n",
    "plt.xticks(rotation=75)\n",
    "plt.xlabel(\"Number of listed count (n)\")\n",
    "plt.ylabel(\"Count\")\n",
    "plt.ylim(0, 2000)\n",
    "plt.show()"
   ]
  },
  {
   "cell_type": "code",
   "execution_count": null,
   "metadata": {},
   "outputs": [],
   "source": []
  }
 ],
 "metadata": {
  "interpreter": {
   "hash": "d02aeee2ffdfbdf839e8f3843dba70a3a2400920afa710074e52a3ca82d748f8"
  },
  "kernelspec": {
   "display_name": "Python 3.8.11 ('epfl_ml')",
   "language": "python",
   "name": "python3"
  },
  "language_info": {
   "codemirror_mode": {
    "name": "ipython",
    "version": 3
   },
   "file_extension": ".py",
   "mimetype": "text/x-python",
   "name": "python",
   "nbconvert_exporter": "python",
   "pygments_lexer": "ipython3",
   "version": "3.8.11"
  },
  "orig_nbformat": 4
 },
 "nbformat": 4,
 "nbformat_minor": 2
}
