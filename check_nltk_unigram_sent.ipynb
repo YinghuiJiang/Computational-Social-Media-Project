{
 "cells": [
  {
   "cell_type": "code",
   "execution_count": 1,
   "metadata": {},
   "outputs": [],
   "source": [
    "import pandas as pd\n",
    "import json"
   ]
  },
  {
   "cell_type": "code",
   "execution_count": 2,
   "metadata": {},
   "outputs": [
    {
     "data": {
      "text/plain": [
       "0     {'neg': 0.0, 'neu': 1.0, 'pos': 0.0, 'compound...\n",
       "1     {'neg': 0.0, 'neu': 1.0, 'pos': 0.0, 'compound...\n",
       "2     {'neg': 0.0, 'neu': 1.0, 'pos': 0.0, 'compound...\n",
       "3     {'neg': 0.0, 'neu': 0.783, 'pos': 0.217, 'comp...\n",
       "4     {'neg': 0.0, 'neu': 1.0, 'pos': 0.0, 'compound...\n",
       "                            ...                        \n",
       "95    {'neg': 0.0, 'neu': 0.816, 'pos': 0.184, 'comp...\n",
       "96    {'neg': 0.0, 'neu': 0.748, 'pos': 0.252, 'comp...\n",
       "97    {'neg': 0.0, 'neu': 1.0, 'pos': 0.0, 'compound...\n",
       "98    {'neg': 0.352, 'neu': 0.518, 'pos': 0.13, 'com...\n",
       "99    {'neg': 0.42, 'neu': 0.58, 'pos': 0.0, 'compou...\n",
       "Name: polarity, Length: 100, dtype: object"
      ]
     },
     "execution_count": 2,
     "metadata": {},
     "output_type": "execute_result"
    }
   ],
   "source": [
    "analysis_auto = pd.read_csv('analysis/nltk_unigram_sent.csv', index_col=False)\n",
    "polarity_auto = analysis_auto['polarity'].head(100)\n",
    "polarity_auto"
   ]
  },
  {
   "cell_type": "code",
   "execution_count": 3,
   "metadata": {},
   "outputs": [
    {
     "data": {
      "text/plain": [
       "0     O\n",
       "1     P\n",
       "2     P\n",
       "3     O\n",
       "4     P\n",
       "     ..\n",
       "95    N\n",
       "96    O\n",
       "97    O\n",
       "98    N\n",
       "99    N\n",
       "Name: Label, Length: 100, dtype: object"
      ]
     },
     "execution_count": 3,
     "metadata": {},
     "output_type": "execute_result"
    }
   ],
   "source": [
    "analysis_manual = pd.read_csv('analysis/data_2012-07-26_eur_usd.csv')\n",
    "labels = analysis_manual['Label'].dropna()\n",
    "labels"
   ]
  },
  {
   "cell_type": "code",
   "execution_count": 4,
   "metadata": {},
   "outputs": [],
   "source": [
    "def change_to_double_quotes(string):\n",
    "  return string.replace(\"'\", '\"')"
   ]
  },
  {
   "cell_type": "code",
   "execution_count": 5,
   "metadata": {},
   "outputs": [],
   "source": [
    "def parse_into_dict(string):\n",
    "  return json.loads(string)"
   ]
  },
  {
   "cell_type": "code",
   "execution_count": 6,
   "metadata": {},
   "outputs": [],
   "source": [
    "# Parse into polarity into Python dictionaries\n",
    "polarity = polarity_auto.apply(change_to_double_quotes).apply(parse_into_dict)"
   ]
  },
  {
   "cell_type": "code",
   "execution_count": 7,
   "metadata": {},
   "outputs": [],
   "source": [
    "def drop_compound(dict):\n",
    "  return {x: dict[x] for x in dict if x not in ['compound']}"
   ]
  },
  {
   "cell_type": "code",
   "execution_count": 8,
   "metadata": {},
   "outputs": [],
   "source": [
    "polarity_without_compound = polarity.apply(drop_compound)"
   ]
  },
  {
   "cell_type": "code",
   "execution_count": 9,
   "metadata": {},
   "outputs": [],
   "source": [
    "# Create dictionary to link N, P, O to 'neg', 'pos', 'neu' respectively\n",
    "mapping = {\"N\": 'neg', \"P\": 'pos', \"O\": 'neu'}"
   ]
  },
  {
   "cell_type": "code",
   "execution_count": 10,
   "metadata": {},
   "outputs": [],
   "source": [
    "is_correct = [False for _ in range(100)]"
   ]
  },
  {
   "cell_type": "code",
   "execution_count": 11,
   "metadata": {},
   "outputs": [],
   "source": [
    "for i in range(len(polarity_without_compound)):\n",
    "  max_p = max(polarity_without_compound[i], key=polarity_without_compound[i].get)\n",
    "  \n",
    "  if labels[i] == max_p:\n",
    "    is_correct[i] = True\n",
    "  "
   ]
  },
  {
   "cell_type": "code",
   "execution_count": 14,
   "metadata": {},
   "outputs": [],
   "source": [
    "count = 0\n",
    "for b in is_correct:\n",
    "  if b == True:\n",
    "    count += 1"
   ]
  },
  {
   "cell_type": "code",
   "execution_count": 15,
   "metadata": {},
   "outputs": [
    {
     "data": {
      "text/plain": [
       "0"
      ]
     },
     "execution_count": 15,
     "metadata": {},
     "output_type": "execute_result"
    }
   ],
   "source": [
    "count"
   ]
  }
 ],
 "metadata": {
  "interpreter": {
   "hash": "d02aeee2ffdfbdf839e8f3843dba70a3a2400920afa710074e52a3ca82d748f8"
  },
  "kernelspec": {
   "display_name": "Python 3.8.11 ('epfl_ml')",
   "language": "python",
   "name": "python3"
  },
  "language_info": {
   "codemirror_mode": {
    "name": "ipython",
    "version": 3
   },
   "file_extension": ".py",
   "mimetype": "text/x-python",
   "name": "python",
   "nbconvert_exporter": "python",
   "pygments_lexer": "ipython3",
   "version": "3.8.11"
  },
  "orig_nbformat": 4
 },
 "nbformat": 4,
 "nbformat_minor": 2
}
