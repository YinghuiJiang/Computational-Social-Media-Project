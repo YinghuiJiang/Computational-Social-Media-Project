{
 "cells": [
  {
   "cell_type": "code",
   "execution_count": 25,
   "metadata": {},
   "outputs": [],
   "source": [
    "import pandas as pd"
   ]
  },
  {
   "cell_type": "code",
   "execution_count": 26,
   "metadata": {},
   "outputs": [],
   "source": [
    "raw_dict = pd.read_excel(\"Dictionary_paper.xlsx\")\n",
    "positive = raw_dict[\"Positive\"].dropna()\n",
    "negative = raw_dict[\"Negative\"].dropna()\n",
    "neutral = raw_dict[\"Neutral\"].dropna()"
   ]
  },
  {
   "cell_type": "code",
   "execution_count": 27,
   "metadata": {},
   "outputs": [],
   "source": [
    "# Replace with symbols that comply with Python packages.\n",
    "def replace_symbols(string):\n",
    "  return string.replace(\"*\", \"+\").replace(\"?\", \".\").replace(\"“\", \"\").replace(\"”\", '')\n",
    "\n",
    "positive = positive.apply(replace_symbols)\n",
    "negative = negative.apply(replace_symbols)\n",
    "neutral = neutral.apply(replace_symbols)"
   ]
  },
  {
   "cell_type": "code",
   "execution_count": 28,
   "metadata": {},
   "outputs": [],
   "source": [
    "# Export to csv files\n",
    "positive.to_csv(\"positive.csv\", index=True)\n",
    "negative.to_csv(\"negative.csv\", index=True)\n",
    "neutral.to_csv(\"neutral.csv\", index=True)"
   ]
  },
  {
   "cell_type": "code",
   "execution_count": 29,
   "metadata": {},
   "outputs": [
    {
     "data": {
      "text/html": [
       "<div>\n",
       "<style scoped>\n",
       "    .dataframe tbody tr th:only-of-type {\n",
       "        vertical-align: middle;\n",
       "    }\n",
       "\n",
       "    .dataframe tbody tr th {\n",
       "        vertical-align: top;\n",
       "    }\n",
       "\n",
       "    .dataframe thead th {\n",
       "        text-align: right;\n",
       "    }\n",
       "</style>\n",
       "<table border=\"1\" class=\"dataframe\">\n",
       "  <thead>\n",
       "    <tr style=\"text-align: right;\">\n",
       "      <th></th>\n",
       "      <th>Unnamed: 0</th>\n",
       "      <th>Positive</th>\n",
       "    </tr>\n",
       "  </thead>\n",
       "  <tbody>\n",
       "    <tr>\n",
       "      <th>0</th>\n",
       "      <td>0</td>\n",
       "      <td>+buy..fxe+</td>\n",
       "    </tr>\n",
       "    <tr>\n",
       "      <th>1</th>\n",
       "      <td>1</td>\n",
       "      <td>+long..fxe+</td>\n",
       "    </tr>\n",
       "    <tr>\n",
       "      <th>2</th>\n",
       "      <td>2</td>\n",
       "      <td>+buy.signal+</td>\n",
       "    </tr>\n",
       "    <tr>\n",
       "      <th>3</th>\n",
       "      <td>3</td>\n",
       "      <td>+upside+breakout+</td>\n",
       "    </tr>\n",
       "    <tr>\n",
       "      <th>4</th>\n",
       "      <td>4</td>\n",
       "      <td>+eur.usd+bull+intact+</td>\n",
       "    </tr>\n",
       "    <tr>\n",
       "      <th>...</th>\n",
       "      <td>...</td>\n",
       "      <td>...</td>\n",
       "    </tr>\n",
       "    <tr>\n",
       "      <th>63</th>\n",
       "      <td>63</td>\n",
       "      <td>+keep+eurusd.long+</td>\n",
       "    </tr>\n",
       "    <tr>\n",
       "      <th>64</th>\n",
       "      <td>64</td>\n",
       "      <td>+increase+eur.usd.long+</td>\n",
       "    </tr>\n",
       "    <tr>\n",
       "      <th>65</th>\n",
       "      <td>65</td>\n",
       "      <td>+decrease+eur.usd.long+</td>\n",
       "    </tr>\n",
       "    <tr>\n",
       "      <th>66</th>\n",
       "      <td>66</td>\n",
       "      <td>+hold+eur.usd.long+</td>\n",
       "    </tr>\n",
       "    <tr>\n",
       "      <th>67</th>\n",
       "      <td>67</td>\n",
       "      <td>+keep+eur.usd.long+\"</td>\n",
       "    </tr>\n",
       "  </tbody>\n",
       "</table>\n",
       "<p>68 rows × 2 columns</p>\n",
       "</div>"
      ],
      "text/plain": [
       "    Unnamed: 0                 Positive\n",
       "0            0               +buy..fxe+\n",
       "1            1              +long..fxe+\n",
       "2            2             +buy.signal+\n",
       "3            3        +upside+breakout+\n",
       "4            4    +eur.usd+bull+intact+\n",
       "..         ...                      ...\n",
       "63          63       +keep+eurusd.long+\n",
       "64          64  +increase+eur.usd.long+\n",
       "65          65  +decrease+eur.usd.long+\n",
       "66          66      +hold+eur.usd.long+\n",
       "67          67     +keep+eur.usd.long+\"\n",
       "\n",
       "[68 rows x 2 columns]"
      ]
     },
     "execution_count": 29,
     "metadata": {},
     "output_type": "execute_result"
    }
   ],
   "source": [
    "# Check\n",
    "p = pd.read_csv(\"positive.csv\")\n",
    "p"
   ]
  }
 ],
 "metadata": {
  "interpreter": {
   "hash": "d02aeee2ffdfbdf839e8f3843dba70a3a2400920afa710074e52a3ca82d748f8"
  },
  "kernelspec": {
   "display_name": "Python 3.8.11 ('epfl_ml')",
   "language": "python",
   "name": "python3"
  },
  "language_info": {
   "codemirror_mode": {
    "name": "ipython",
    "version": 3
   },
   "file_extension": ".py",
   "mimetype": "text/x-python",
   "name": "python",
   "nbconvert_exporter": "python",
   "pygments_lexer": "ipython3",
   "version": "3.8.11"
  },
  "orig_nbformat": 4
 },
 "nbformat": 4,
 "nbformat_minor": 2
}
